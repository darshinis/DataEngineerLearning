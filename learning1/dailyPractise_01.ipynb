{
  "nbformat": 4,
  "nbformat_minor": 0,
  "metadata": {
    "colab": {
      "provenance": [],
      "authorship_tag": "ABX9TyMnLjCvHyANzFTNhD0r1KXV",
      "include_colab_link": true
    },
    "kernelspec": {
      "name": "python3",
      "display_name": "Python 3"
    },
    "language_info": {
      "name": "python"
    }
  },
  "cells": [
    {
      "cell_type": "markdown",
      "metadata": {
        "id": "view-in-github",
        "colab_type": "text"
      },
      "source": [
        "<a href=\"https://colab.research.google.com/github/darshinis/DataEngineerLearning/blob/develop/learning1/dailyPractise_01.ipynb\" target=\"_parent\"><img src=\"https://colab.research.google.com/assets/colab-badge.svg\" alt=\"Open In Colab\"/></a>"
      ]
    },
    {
      "cell_type": "code",
      "execution_count": 1,
      "metadata": {
        "id": "TZJs6pW0OEen"
      },
      "outputs": [],
      "source": [
        "!apt-get install openjdk-8-jdk-headless -qq > /dev/null\n",
        "!wget -q http://archive.apache.org/dist/spark/spark-3.1.1/spark-3.1.1-bin-hadoop3.2.tgz\n",
        "!tar xf spark-3.1.1-bin-hadoop3.2.tgz\n",
        "!pip install -q findspark"
      ]
    },
    {
      "cell_type": "code",
      "source": [
        "import os\n",
        "os.environ[\"JAVA_HOME\"] = \"/usr/lib/jvm/java-8-openjdk-amd64\"\n",
        "os.environ[\"SPARK_HOME\"] = \"/content/spark-3.1.1-bin-hadoop3.2\""
      ],
      "metadata": {
        "id": "gObJ1N6NOFDD"
      },
      "execution_count": 2,
      "outputs": []
    },
    {
      "cell_type": "code",
      "source": [
        "import findspark\n",
        "findspark.init()\n",
        "from pyspark.sql import SparkSession\n",
        "spark = SparkSession.builder.master(\"local[*]\").getOrCreate()\n",
        "spark.conf.set(\"spark.sql.repl.eagerEval.enabled\", True) # Property used to format output tables better\n",
        "spark"
      ],
      "metadata": {
        "colab": {
          "base_uri": "https://localhost:8080/",
          "height": 219
        },
        "id": "qMP7nh7JOGx7",
        "outputId": "cef63a5a-21d5-42ba-e122-02a407f19b42"
      },
      "execution_count": 3,
      "outputs": [
        {
          "output_type": "execute_result",
          "data": {
            "text/plain": [
              "<pyspark.sql.session.SparkSession at 0x7aea61dc7ac0>"
            ],
            "text/html": [
              "\n",
              "            <div>\n",
              "                <p><b>SparkSession - in-memory</b></p>\n",
              "                \n",
              "        <div>\n",
              "            <p><b>SparkContext</b></p>\n",
              "\n",
              "            <p><a href=\"http://20220681173b:4040\">Spark UI</a></p>\n",
              "\n",
              "            <dl>\n",
              "              <dt>Version</dt>\n",
              "                <dd><code>v3.1.1</code></dd>\n",
              "              <dt>Master</dt>\n",
              "                <dd><code>local[*]</code></dd>\n",
              "              <dt>AppName</dt>\n",
              "                <dd><code>pyspark-shell</code></dd>\n",
              "            </dl>\n",
              "        </div>\n",
              "        \n",
              "            </div>\n",
              "        "
            ]
          },
          "metadata": {},
          "execution_count": 3
        }
      ]
    },
    {
      "cell_type": "code",
      "source": [
        "df = spark.read.option(\"mode\",\"PERMISSIVE\")\\\n",
        "              .json(\"/content/sample_data/anscombe.json\")"
      ],
      "metadata": {
        "id": "ecv36nx0OJQF"
      },
      "execution_count": 7,
      "outputs": []
    },
    {
      "cell_type": "code",
      "source": [
        "df.show(5)"
      ],
      "metadata": {
        "colab": {
          "base_uri": "https://localhost:8080/"
        },
        "id": "abGMqEyqO96r",
        "outputId": "19373c2b-9928-4b04-dbe1-9fc113a1304d"
      },
      "execution_count": 8,
      "outputs": [
        {
          "output_type": "stream",
          "name": "stdout",
          "text": [
            "+------+----+----+---------------+\n",
            "|Series|   X|   Y|_corrupt_record|\n",
            "+------+----+----+---------------+\n",
            "|  null|null|null|              [|\n",
            "|     I|10.0|8.04|           null|\n",
            "|     I| 8.0|6.95|           null|\n",
            "|     I|13.0|7.58|           null|\n",
            "|     I| 9.0|8.81|           null|\n",
            "+------+----+----+---------------+\n",
            "only showing top 5 rows\n",
            "\n"
          ]
        }
      ]
    },
    {
      "cell_type": "code",
      "source": [
        "from pyspark.sql.functions import *"
      ],
      "metadata": {
        "id": "wDyux_ypP_rN"
      },
      "execution_count": 10,
      "outputs": []
    },
    {
      "cell_type": "code",
      "source": [
        "df.select(col(\"Series\")).distinct().show(10)"
      ],
      "metadata": {
        "colab": {
          "base_uri": "https://localhost:8080/"
        },
        "id": "MnOMAdm8PAZz",
        "outputId": "24b6ed73-4242-4559-cc4f-a43dff4e79a7"
      },
      "execution_count": 12,
      "outputs": [
        {
          "output_type": "stream",
          "name": "stdout",
          "text": [
            "+------+\n",
            "|Series|\n",
            "+------+\n",
            "|  null|\n",
            "|   III|\n",
            "|    IV|\n",
            "|    II|\n",
            "|     I|\n",
            "+------+\n",
            "\n"
          ]
        }
      ]
    },
    {
      "cell_type": "code",
      "source": [
        "df.select(col(\"Series\")).groupBy(col(\"Series\")).count()"
      ],
      "metadata": {
        "colab": {
          "base_uri": "https://localhost:8080/",
          "height": 156
        },
        "id": "NWbiYwDxP9_g",
        "outputId": "fd9c29bc-373e-4f38-a5d5-a7d3bbb731b3"
      },
      "execution_count": 15,
      "outputs": [
        {
          "output_type": "execute_result",
          "data": {
            "text/plain": [
              "+------+-----+\n",
              "|Series|count|\n",
              "+------+-----+\n",
              "|  null|    2|\n",
              "|   III|   11|\n",
              "|    IV|   11|\n",
              "|    II|   11|\n",
              "|     I|   11|\n",
              "+------+-----+"
            ],
            "text/html": [
              "<table border='1'>\n",
              "<tr><th>Series</th><th>count</th></tr>\n",
              "<tr><td>null</td><td>2</td></tr>\n",
              "<tr><td>III</td><td>11</td></tr>\n",
              "<tr><td>IV</td><td>11</td></tr>\n",
              "<tr><td>II</td><td>11</td></tr>\n",
              "<tr><td>I</td><td>11</td></tr>\n",
              "</table>\n"
            ]
          },
          "metadata": {},
          "execution_count": 15
        }
      ]
    },
    {
      "cell_type": "code",
      "source": [
        "df.count()"
      ],
      "metadata": {
        "colab": {
          "base_uri": "https://localhost:8080/"
        },
        "id": "lhdSYggUQS7Q",
        "outputId": "c23c1521-2768-4bb6-bfb1-fd6474807406"
      },
      "execution_count": 16,
      "outputs": [
        {
          "output_type": "execute_result",
          "data": {
            "text/plain": [
              "46"
            ]
          },
          "metadata": {},
          "execution_count": 16
        }
      ]
    },
    {
      "cell_type": "code",
      "source": [
        "df.describe()"
      ],
      "metadata": {
        "colab": {
          "base_uri": "https://localhost:8080/",
          "height": 156
        },
        "id": "H8P8fzatQauu",
        "outputId": "661ca35a-55c9-485e-cc8a-03d32b4428ff"
      },
      "execution_count": 17,
      "outputs": [
        {
          "output_type": "execute_result",
          "data": {
            "text/plain": [
              "+-------+------+------------------+------------------+---------------+\n",
              "|summary|Series|                 X|                 Y|_corrupt_record|\n",
              "+-------+------+------------------+------------------+---------------+\n",
              "|  count|    44|                44|                44|              2|\n",
              "|   mean|  null|               9.0| 7.500454545454546|           null|\n",
              "| stddev|  null|3.1988369979626783|1.9592439863084525|           null|\n",
              "|    min|     I|               4.0|               3.1|              [|\n",
              "|    max|    IV|              19.0|             12.74|              ]|\n",
              "+-------+------+------------------+------------------+---------------+"
            ],
            "text/html": [
              "<table border='1'>\n",
              "<tr><th>summary</th><th>Series</th><th>X</th><th>Y</th><th>_corrupt_record</th></tr>\n",
              "<tr><td>count</td><td>44</td><td>44</td><td>44</td><td>2</td></tr>\n",
              "<tr><td>mean</td><td>null</td><td>9.0</td><td>7.500454545454546</td><td>null</td></tr>\n",
              "<tr><td>stddev</td><td>null</td><td>3.1988369979626783</td><td>1.9592439863084525</td><td>null</td></tr>\n",
              "<tr><td>min</td><td>I</td><td>4.0</td><td>3.1</td><td>[</td></tr>\n",
              "<tr><td>max</td><td>IV</td><td>19.0</td><td>12.74</td><td>]</td></tr>\n",
              "</table>\n"
            ]
          },
          "metadata": {},
          "execution_count": 17
        }
      ]
    },
    {
      "cell_type": "code",
      "source": [
        "#creating column with default value\n",
        "df.withColumn(\"status\",lit(\"In status\")).show(5)"
      ],
      "metadata": {
        "colab": {
          "base_uri": "https://localhost:8080/"
        },
        "id": "wLRy2XFiQct4",
        "outputId": "08302f66-c451-4059-842f-d69925bf8f0a"
      },
      "execution_count": 31,
      "outputs": [
        {
          "output_type": "stream",
          "name": "stdout",
          "text": [
            "+------+----+----+---------------+---------+\n",
            "|Series|   X|   Y|_corrupt_record|   status|\n",
            "+------+----+----+---------------+---------+\n",
            "|  null|null|null|              [|In status|\n",
            "|     I|10.0|8.04|           null|In status|\n",
            "|     I| 8.0|6.95|           null|In status|\n",
            "|     I|13.0|7.58|           null|In status|\n",
            "|     I| 9.0|8.81|           null|In status|\n",
            "+------+----+----+---------------+---------+\n",
            "only showing top 5 rows\n",
            "\n"
          ]
        }
      ]
    },
    {
      "cell_type": "code",
      "source": [],
      "metadata": {
        "id": "uB07dcbiQdsX"
      },
      "execution_count": 24,
      "outputs": []
    },
    {
      "cell_type": "code",
      "source": [
        "df.show(5)"
      ],
      "metadata": {
        "colab": {
          "base_uri": "https://localhost:8080/"
        },
        "id": "DXOsNSCBRKG6",
        "outputId": "4f25af9b-9d8a-430b-b5d7-55ef06f1017b"
      },
      "execution_count": 23,
      "outputs": [
        {
          "output_type": "stream",
          "name": "stdout",
          "text": [
            "+------+----+----+---------------+\n",
            "|Series|   X|   Y|_corrupt_record|\n",
            "+------+----+----+---------------+\n",
            "|  null|null|null|              [|\n",
            "|     I|10.0|8.04|           null|\n",
            "|     I| 8.0|6.95|           null|\n",
            "|     I|13.0|7.58|           null|\n",
            "|     I| 9.0|8.81|           null|\n",
            "+------+----+----+---------------+\n",
            "only showing top 5 rows\n",
            "\n"
          ]
        }
      ]
    },
    {
      "cell_type": "code",
      "source": [
        "#creating columns based on conditions\n",
        "# when(condition for TRUE case,value).otherwise(ELSE case value)\n",
        "df.withColumn(\"Rating\",when(col(\"X\")>8,\"in range\").otherwise(\"in margin\")).show(5)"
      ],
      "metadata": {
        "colab": {
          "base_uri": "https://localhost:8080/"
        },
        "id": "uOEs74PmRMa1",
        "outputId": "62cd5b4b-b414-4a98-f7ab-f1d2ca19fc57"
      },
      "execution_count": 28,
      "outputs": [
        {
          "output_type": "stream",
          "name": "stdout",
          "text": [
            "+------+----+----+---------------+---------+\n",
            "|Series|   X|   Y|_corrupt_record|   Rating|\n",
            "+------+----+----+---------------+---------+\n",
            "|  null|null|null|              [|in margin|\n",
            "|     I|10.0|8.04|           null| in range|\n",
            "|     I| 8.0|6.95|           null|in margin|\n",
            "|     I|13.0|7.58|           null| in range|\n",
            "|     I| 9.0|8.81|           null| in range|\n",
            "+------+----+----+---------------+---------+\n",
            "only showing top 5 rows\n",
            "\n"
          ]
        }
      ]
    },
    {
      "cell_type": "code",
      "source": [],
      "metadata": {
        "id": "SBUcrylJRvKs"
      },
      "execution_count": null,
      "outputs": []
    }
  ]
}